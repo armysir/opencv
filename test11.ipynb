{
 "cells": [
  {
   "cell_type": "code",
   "execution_count": 2,
   "metadata": {},
   "outputs": [],
   "source": [
    "import cv2\n",
    "import face_recognition\n",
    "import os"
   ]
  },
  {
   "cell_type": "code",
   "execution_count": 3,
   "metadata": {},
   "outputs": [],
   "source": [
    "\n",
    "# 이미 등록된 얼굴 데이터를 저장할 리스트\n",
    "known_face_encodings = []\n",
    "known_face_names = []\n",
    "\n",
    "# 얼굴 등록 함수\n",
    "def register_face(image_path, name):\n",
    "    \"\"\" 얼굴을 등록합니다. \"\"\"\n",
    "    image = face_recognition.load_image_file(image_path)\n",
    "    face_encodings = face_recognition.face_encodings(image)\n",
    "    \n",
    "    if face_encodings:\n",
    "        face_encoding = face_encodings[0]  # 첫 번째 얼굴만 사용\n",
    "        known_face_encodings.append(face_encoding)\n",
    "        known_face_names.append(name)\n",
    "        print(f\"{name} 얼굴이 등록되었습니다.\")\n",
    "    else:\n",
    "        print(\"얼굴을 인식할 수 없습니다.\")\n",
    "\n",
    "# 사진 파일에서 얼굴 구별하기\n",
    "def identify_face(image_path):\n",
    "    \"\"\" 지정된 사진 파일에서 얼굴을 인식하고 등록된 얼굴인지 구별합니다. \"\"\"\n",
    "    unknown_image = face_recognition.load_image_file(image_path)\n",
    "    unknown_face_encodings = face_recognition.face_encodings(unknown_image)\n",
    "\n",
    "    if not unknown_face_encodings:\n",
    "        print(\"사진에서 얼굴을 인식할 수 없습니다.\")\n",
    "        return\n",
    "    \n",
    "    for unknown_face_encoding in unknown_face_encodings:\n",
    "        matches = face_recognition.compare_faces(known_face_encodings, unknown_face_encoding)\n",
    "        face_distances = face_recognition.face_distance(known_face_encodings, unknown_face_encoding)\n",
    "\n",
    "        best_match_index = face_distances.argmin() if matches else None\n",
    "\n",
    "        if matches and matches[best_match_index]:\n",
    "            name = known_face_names[best_match_index]\n",
    "            print(f\"이 사람은 등록된 사람입니다: {name}\")\n",
    "        else:\n",
    "            print(\"등록되지 않은 얼굴입니다.\")\n"
   ]
  },
  {
   "cell_type": "code",
   "execution_count": 12,
   "metadata": {},
   "outputs": [
    {
     "name": "stdout",
     "output_type": "stream",
     "text": [
      "김승아 셀카 얼굴이 등록되었습니다.\n",
      "이 사람은 등록된 사람입니다: 김승아 셀카\n"
     ]
    }
   ],
   "source": [
    "if __name__ == \"__main__\":\n",
    "    # 얼굴 등록\n",
    "    register_face(\"image/김승아.jpeg\", \"김승아 셀카\")\n",
    "\n",
    "    # 등록된 사람인지 확인\n",
    "    identify_face(\"image/김승아2.jpeg\")\n"
   ]
  }
 ],
 "metadata": {
  "kernelspec": {
   "display_name": "opencv_env",
   "language": "python",
   "name": "python3"
  },
  "language_info": {
   "codemirror_mode": {
    "name": "ipython",
    "version": 3
   },
   "file_extension": ".py",
   "mimetype": "text/x-python",
   "name": "python",
   "nbconvert_exporter": "python",
   "pygments_lexer": "ipython3",
   "version": "3.13.0"
  }
 },
 "nbformat": 4,
 "nbformat_minor": 2
}
